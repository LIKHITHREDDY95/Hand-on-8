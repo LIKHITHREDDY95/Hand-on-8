{
  "nbformat": 4,
  "nbformat_minor": 0,
  "metadata": {
    "colab": {
      "provenance": [],
      "authorship_tag": "ABX9TyOgiAyZUVfpcZrvYH4Y/TUi",
      "include_colab_link": true
    },
    "kernelspec": {
      "name": "python3",
      "display_name": "Python 3"
    },
    "language_info": {
      "name": "python"
    }
  },
  "cells": [
    {
      "cell_type": "markdown",
      "metadata": {
        "id": "view-in-github",
        "colab_type": "text"
      },
      "source": [
        "<a href=\"https://colab.research.google.com/github/LIKHITHREDDY95/Hand-on-8/blob/main/stack_Implementation_using_fixed_arrays.ipynb\" target=\"_parent\"><img src=\"https://colab.research.google.com/assets/colab-badge.svg\" alt=\"Open In Colab\"/></a>"
      ]
    },
    {
      "cell_type": "code",
      "execution_count": 2,
      "metadata": {
        "colab": {
          "base_uri": "https://localhost:8080/"
        },
        "id": "gBXXa8jLocrh",
        "outputId": "64e2a7e4-9701-4593-fef4-5adac539e7e0"
      },
      "outputs": [
        {
          "output_type": "stream",
          "name": "stdout",
          "text": [
            "Pushing elements into the stack:\n",
            "Pushed 1, Stack size: 1\n",
            "Pushed 2, Stack size: 2\n",
            "Pushed 3, Stack size: 3\n",
            "Pushed 4, Stack size: 4\n",
            "Pushed 5, Stack size: 5\n",
            "\n",
            "Peek at the top element: 5\n",
            "\n",
            "Pop elements from the stack:\n",
            "Popped 5, Stack size: 4\n",
            "Popped 4, Stack size: 3\n",
            "Popped 3, Stack size: 2\n",
            "Popped 2, Stack size: 1\n",
            "Popped 1, Stack size: 0\n",
            "\n",
            "Error: Stack underflow\n",
            "\n",
            "Error: Stack overflow\n"
          ]
        }
      ],
      "source": [
        "class Stack:\n",
        "    def __init__(self, capacity):\n",
        "        self.capacity = capacity\n",
        "        self.stack = [None] * capacity\n",
        "        self.top = -1\n",
        "\n",
        "    def push(self, item):\n",
        "        if self.is_full():\n",
        "            raise Exception(\"Stack overflow\")\n",
        "        self.top += 1\n",
        "        self.stack[self.top] = item\n",
        "\n",
        "    def pop(self):\n",
        "        if self.is_empty():\n",
        "            raise Exception(\"Stack underflow\")\n",
        "        item = self.stack[self.top]\n",
        "        self.top -= 1\n",
        "        return item\n",
        "\n",
        "    def peek(self):\n",
        "        if self.is_empty():\n",
        "            raise Exception(\"Stack is empty\")\n",
        "        return self.stack[self.top]\n",
        "\n",
        "    def is_empty(self):\n",
        "        return self.top == -1\n",
        "\n",
        "    def is_full(self):\n",
        "        return self.top == self.capacity - 1\n",
        "\n",
        "    def size(self):\n",
        "        return self.top + 1\n",
        "if __name__ == \"__main__\":\n",
        "    stack = Stack(5)\n",
        "\n",
        "    print(\"Pushing elements into the stack:\")\n",
        "    for i in range(1, 6):\n",
        "        stack.push(i)\n",
        "        print(f\"Pushed {i}, Stack size: {stack.size()}\")\n",
        "\n",
        "    print(\"\\nPeek at the top element:\", stack.peek())\n",
        "\n",
        "    print(\"\\nPop elements from the stack:\")\n",
        "    while not stack.is_empty():\n",
        "        print(f\"Popped {stack.pop()}, Stack size: {stack.size()}\")\n",
        "\n",
        "    try:\n",
        "        stack.pop()\n",
        "    except Exception as e:\n",
        "        print(f\"\\nError: {e}\")\n",
        "\n",
        "    try:\n",
        "        stack.push(1)\n",
        "        stack.push(2)\n",
        "        stack.push(3)\n",
        "        stack.push(4)\n",
        "        stack.push(5)\n",
        "        stack.push(6)\n",
        "    except Exception as e:\n",
        "        print(f\"\\nError: {e}\")"
      ]
    }
  ]
}