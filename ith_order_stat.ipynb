{
  "nbformat": 4,
  "nbformat_minor": 0,
  "metadata": {
    "colab": {
      "provenance": [],
      "authorship_tag": "ABX9TyP2TQQU+UKG+WlQ1dJ+KKwb",
      "include_colab_link": true
    },
    "kernelspec": {
      "name": "python3",
      "display_name": "Python 3"
    },
    "language_info": {
      "name": "python"
    }
  },
  "cells": [
    {
      "cell_type": "markdown",
      "metadata": {
        "id": "view-in-github",
        "colab_type": "text"
      },
      "source": [
        "<a href=\"https://colab.research.google.com/github/LIKHITHREDDY95/Hand-on-8/blob/main/ith_order_stat.ipynb\" target=\"_parent\"><img src=\"https://colab.research.google.com/assets/colab-badge.svg\" alt=\"Open In Colab\"/></a>"
      ]
    },
    {
      "cell_type": "code",
      "execution_count": 1,
      "metadata": {
        "colab": {
          "base_uri": "https://localhost:8080/"
        },
        "id": "0XU2KZ8IlBUO",
        "outputId": "15e0c6bd-85d2-4246-a3b2-b7b98f6e68fa"
      },
      "outputs": [
        {
          "output_type": "stream",
          "name": "stdout",
          "text": [
            "Original array: [9, 7, 5, 11, 12, 2, 14, 3, 10, 6]\n",
            "The 4th order statistic is: 6\n",
            "Sorted array: [2, 3, 5, 6, 7, 9, 10, 11, 12, 14]\n",
            "Verification: The 4th element in the sorted array is: 6\n",
            "\n",
            "Finding all order statistics:\n",
            "The 1th order statistic is: 2\n",
            "The 2th order statistic is: 3\n",
            "The 3th order statistic is: 5\n",
            "The 4th order statistic is: 6\n",
            "The 5th order statistic is: 7\n",
            "The 6th order statistic is: 9\n",
            "The 7th order statistic is: 10\n",
            "The 8th order statistic is: 11\n",
            "The 9th order statistic is: 12\n",
            "The 10th order statistic is: 14\n"
          ]
        }
      ],
      "source": [
        "class Element:\n",
        "    def __init__(self, value, original_index):\n",
        "        self.value = value\n",
        "        self.original_index = original_index\n",
        "\n",
        "def quicksort(elements, low, high):\n",
        "    if low < high:\n",
        "        pivot_index = partition(elements, low, high)\n",
        "        quicksort(elements, low, pivot_index - 1)\n",
        "        quicksort(elements, pivot_index + 1, high)\n",
        "\n",
        "def partition(elements, low, high):\n",
        "    pivot = elements[high].value\n",
        "    i = low - 1\n",
        "    for j in range(low, high):\n",
        "        if elements[j].value <= pivot:\n",
        "            i += 1\n",
        "            elements[i], elements[j] = elements[j], elements[i]\n",
        "    elements[i + 1], elements[high] = elements[high], elements[i + 1]\n",
        "    return i + 1\n",
        "\n",
        "def ith_order(arr, i):\n",
        "    if i < 1 or i > len(arr):\n",
        "        return None\n",
        "\n",
        "\n",
        "    elements = [Element(value, index) for index, value in enumerate(arr)]\n",
        "    quicksort(elements, 0, len(elements) - 1)\n",
        "    index_to_position = {elem.original_index: pos for pos, elem in enumerate(elements)}\n",
        "\n",
        "\n",
        "    for elem in elements:\n",
        "        if index_to_position[elem.original_index] == i - 1:\n",
        "            return elem.value\n",
        "\n",
        "arr = [9, 7, 5, 11, 12, 2, 14, 3, 10, 6]\n",
        "print(\"Original array:\", arr)\n",
        "i = 4\n",
        "result = ith_order(arr, i)\n",
        "print(f\"The {i}th order statistic is: {result}\")\n",
        "sorted_arr = sorted(arr)\n",
        "print(\"Sorted array:\", sorted_arr)\n",
        "print(f\"Verification: The {i}th element in the sorted array is: {sorted_arr[i-1]}\")\n",
        "\n",
        "print(\"\\nFinding all order statistics:\")\n",
        "for j in range(1, len(arr) + 1):\n",
        "    result = ith_order(arr, j)\n",
        "    print(f\"The {j}th order statistic is: {result}\")"
      ]
    }
  ]
}