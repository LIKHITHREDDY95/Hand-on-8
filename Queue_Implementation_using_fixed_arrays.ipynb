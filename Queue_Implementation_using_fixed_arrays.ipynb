{
  "nbformat": 4,
  "nbformat_minor": 0,
  "metadata": {
    "colab": {
      "provenance": [],
      "authorship_tag": "ABX9TyO1VlCo+X6pVrlx42aG22FP",
      "include_colab_link": true
    },
    "kernelspec": {
      "name": "python3",
      "display_name": "Python 3"
    },
    "language_info": {
      "name": "python"
    }
  },
  "cells": [
    {
      "cell_type": "markdown",
      "metadata": {
        "id": "view-in-github",
        "colab_type": "text"
      },
      "source": [
        "<a href=\"https://colab.research.google.com/github/LIKHITHREDDY95/Hand-on-8/blob/main/Queue_Implementation_using_fixed_arrays.ipynb\" target=\"_parent\"><img src=\"https://colab.research.google.com/assets/colab-badge.svg\" alt=\"Open In Colab\"/></a>"
      ]
    },
    {
      "cell_type": "code",
      "execution_count": 1,
      "metadata": {
        "colab": {
          "base_uri": "https://localhost:8080/"
        },
        "id": "Jx62GabZobnX",
        "outputId": "0deb8d06-8957-46ab-ebb8-55431aa7c35c"
      },
      "outputs": [
        {
          "output_type": "stream",
          "name": "stdout",
          "text": [
            "Enqueue elements:\n",
            "Enqueued 1, Queue size: 1\n",
            "Enqueued 2, Queue size: 2\n",
            "Enqueued 3, Queue size: 3\n",
            "Enqueued 4, Queue size: 4\n",
            "Enqueued 5, Queue size: 5\n",
            "\n",
            "Front item: 1\n",
            "Rear item: 5\n",
            "\n",
            "Dequeue elements:\n",
            "Dequeued 1, Queue size: 4\n",
            "Dequeued 2, Queue size: 3\n",
            "Dequeued 3, Queue size: 2\n",
            "Dequeued 4, Queue size: 1\n",
            "Dequeued 5, Queue size: 0\n",
            "\n",
            "Error: Queue is empty\n",
            "\n",
            "Error: Queue is full\n"
          ]
        }
      ],
      "source": [
        "class Queue:\n",
        "    def __init__(self, capacity):\n",
        "        self.capacity = capacity\n",
        "        self.queue = [None] * capacity\n",
        "        self.front = self.size = 0\n",
        "        self.rear = capacity - 1\n",
        "\n",
        "    def enqueue(self, item):\n",
        "        if self.is_full():\n",
        "            raise Exception(\"Queue is full\")\n",
        "        self.rear = (self.rear + 1) % self.capacity\n",
        "        self.queue[self.rear] = item\n",
        "        self.size += 1\n",
        "\n",
        "    def dequeue(self):\n",
        "        if self.is_empty():\n",
        "            raise Exception(\"Queue is empty\")\n",
        "        item = self.queue[self.front]\n",
        "        self.front = (self.front + 1) % self.capacity\n",
        "        self.size -= 1\n",
        "        return item\n",
        "\n",
        "    def front_item(self):\n",
        "        if self.is_empty():\n",
        "            raise Exception(\"Queue is empty\")\n",
        "        return self.queue[self.front]\n",
        "\n",
        "    def rear_item(self):\n",
        "        if self.is_empty():\n",
        "            raise Exception(\"Queue is empty\")\n",
        "        return self.queue[self.rear]\n",
        "\n",
        "    def is_empty(self):\n",
        "        return self.size == 0\n",
        "\n",
        "    def is_full(self):\n",
        "        return self.size == self.capacity\n",
        "\n",
        "if __name__ == \"__main__\":\n",
        "    queue = Queue(5)\n",
        "\n",
        "    print(\"Enqueue elements:\")\n",
        "    for i in range(1, 6):\n",
        "        queue.enqueue(i)\n",
        "        print(f\"Enqueued {i}, Queue size: {queue.size}\")\n",
        "\n",
        "    print(\"\\nFront item:\", queue.front_item())\n",
        "    print(\"Rear item:\", queue.rear_item())\n",
        "\n",
        "    print(\"\\nDequeue elements:\")\n",
        "    while not queue.is_empty():\n",
        "        print(f\"Dequeued {queue.dequeue()}, Queue size: {queue.size}\")\n",
        "\n",
        "    try:\n",
        "        queue.dequeue()\n",
        "    except Exception as e:\n",
        "        print(f\"\\nError: {e}\")\n",
        "\n",
        "    try:\n",
        "        queue.enqueue(1)\n",
        "        queue.enqueue(2)\n",
        "        queue.enqueue(3)\n",
        "        queue.enqueue(4)\n",
        "        queue.enqueue(5)\n",
        "        queue.enqueue(6)\n",
        "    except Exception as e:\n",
        "        print(f\"\\nError: {e}\")"
      ]
    }
  ]
}